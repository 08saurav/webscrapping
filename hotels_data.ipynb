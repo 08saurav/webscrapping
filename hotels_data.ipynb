{
 "cells": [
  {
   "cell_type": "code",
   "execution_count": 1,
   "metadata": {},
   "outputs": [
    {
     "name": "stdout",
     "output_type": "stream",
     "text": [
      "Requirement already satisfied: memory_profiler in /home/asha/anaconda3/lib/python3.7/site-packages (0.57.0)\r\n",
      "Requirement already satisfied: psutil in /home/asha/anaconda3/lib/python3.7/site-packages (from memory_profiler) (5.6.1)\r\n"
     ]
    }
   ],
   "source": [
    "!pip install memory_profiler"
   ]
  },
  {
   "cell_type": "code",
   "execution_count": 42,
   "metadata": {},
   "outputs": [
    {
     "name": "stdout",
     "output_type": "stream",
     "text": [
      "Collecting JSON\n",
      "\u001b[31m  Could not find a version that satisfies the requirement JSON (from versions: )\u001b[0m\n",
      "\u001b[31mNo matching distribution found for JSON\u001b[0m\n"
     ]
    }
   ],
   "source": [
    "!pip install JSON"
   ]
  },
  {
   "cell_type": "code",
   "execution_count": 41,
   "metadata": {},
   "outputs": [
    {
     "ename": "ModuleNotFoundError",
     "evalue": "No module named 'JSON'",
     "output_type": "error",
     "traceback": [
      "\u001b[0;31m---------------------------------------------------------------------------\u001b[0m",
      "\u001b[0;31mModuleNotFoundError\u001b[0m                       Traceback (most recent call last)",
      "\u001b[0;32m<ipython-input-41-adbffa7aa5a2>\u001b[0m in \u001b[0;36m<module>\u001b[0;34m\u001b[0m\n\u001b[1;32m      2\u001b[0m \u001b[0;32mimport\u001b[0m \u001b[0mjson\u001b[0m\u001b[0;34m\u001b[0m\u001b[0;34m\u001b[0m\u001b[0m\n\u001b[1;32m      3\u001b[0m \u001b[0;32mimport\u001b[0m \u001b[0mtime\u001b[0m\u001b[0;34m\u001b[0m\u001b[0;34m\u001b[0m\u001b[0m\n\u001b[0;32m----> 4\u001b[0;31m \u001b[0;32mimport\u001b[0m \u001b[0mJSON\u001b[0m\u001b[0;34m\u001b[0m\u001b[0;34m\u001b[0m\u001b[0m\n\u001b[0m\u001b[1;32m      5\u001b[0m \u001b[0;32mimport\u001b[0m \u001b[0msimplejson\u001b[0m \u001b[0;32mas\u001b[0m \u001b[0mj\u001b[0m\u001b[0;34m\u001b[0m\u001b[0;34m\u001b[0m\u001b[0m\n\u001b[1;32m      6\u001b[0m \u001b[0;32mimport\u001b[0m \u001b[0mmapping\u001b[0m \u001b[0;32mas\u001b[0m \u001b[0mcity\u001b[0m\u001b[0;34m\u001b[0m\u001b[0;34m\u001b[0m\u001b[0m\n",
      "\u001b[0;31mModuleNotFoundError\u001b[0m: No module named 'JSON'"
     ]
    }
   ],
   "source": [
    "import requests\n",
    "import json\n",
    "import time\n",
    "import JSON\n",
    "import simplejson as j\n",
    "import mapping as city\n",
    "import city_list as li\n",
    "import pandas as pd\n",
    "from memory_profiler import memory_usage\n",
    "import os\n",
    "y=1\n",
    "p=0\n",
    "q=0\n",
    "mem1=[]\n",
    "inp=[]\n",
    "out=[]\n"
   ]
  },
  {
   "cell_type": "code",
   "execution_count": 77,
   "metadata": {},
   "outputs": [],
   "source": [
    "base_url=\"http://developer.goibibo.com/api/voyager/get_hotels_by_cityid/?app_id=cea84cbc&app_key=4d0cccfccddea1c882f50f238c0dda7a\"\n",
    "from ratelimit import limits, sleep_and_retry\n",
    "@sleep_and_retry\n",
    "@limits(calls=25, period=1)\n",
    "def myfunc():\n",
    "    global p\n",
    "    global q\n",
    "    global y\n",
    "    global flag\n",
    "    p= os.path.getsize('input'+str(y)+'.csv')\n",
    "    data=pd.read_csv('input'+str(y)+'.csv')\n",
    "    ct=0\n",
    "#df=pd.DataFrame(data)\n",
    "#print(data)\n",
    "#print(df)\n",
    "    x=['']\n",
    "    for i in data.itertuples():\n",
    "         k=0\n",
    "         for j in i:\n",
    "                if(ct%2==0):\n",
    "                    ct=ct+1\n",
    "                    continue\n",
    "                else:\n",
    "                    #print(j)\n",
    "                    x[k]=j\n",
    "                    k=k+1\n",
    "#             print(ct)\n",
    "                    ct=ct+1\n",
    "#             print(x[k-1])\n",
    "#      print(\"row= \",ct)\n",
    "# #src = input(\"source city name? \")\n",
    "# #dest = input(\"destination city name? \")\n",
    "#          temp=x[0].lower()\n",
    "         id1=li.city_id[x[0]]\n",
    "#          temp=x[1].lower()\n",
    "#          dest=city.city_code[temp]\n",
    "# #dep= input(\"date of departure? \")\n",
    "# #arr= input(\"date of arrival? \")\n",
    "# #clas=input(\"seating class? \")\n",
    "     #print(type(x[3]))\n",
    "         url=base_url+'&city_id='+id1\n",
    "#      print(url)\n",
    "         header = {\n",
    "        'user-agent': 'Mozilla/5.0 (X11; Ubuntu; Linux x86_64; rv:72.0) Gecko/20100101 Firefox/72.0',\n",
    "         }\n",
    "         response = requests.get(url,headers=header)\n",
    "         if response.status_code != 200:\n",
    "            raise Exception('API response: {}'.format(response.status_code))\n",
    "#     return response\n",
    "#      print(response.status_code)\n",
    "#          if(flag==1):   \n",
    "#          print(response)\n",
    "#          flag=0\n",
    "         lis=[]\n",
    "#          print(\"respnse  \",type(response))\n",
    "         json_data = response.json()\n",
    "#          print(\"json_data \",json_data)\n",
    "         hotel_data = json_data['data']\n",
    "#          print(type(hotel_data))\n",
    "#          for key,value in hotel_data.items():\n",
    "#              print(type(value))\n",
    "#              print(hotel_data[key])\n",
    "#              print(JSON.parse(value));\n",
    "#              lis.append(key)\n",
    "#          len(flight_data['returnflights'])\n",
    "#          hotel_name = []\n",
    "#          rating = []\n",
    "#          recommended = []\n",
    "#          checkin = []\n",
    "#          flight_code = []\n",
    "#          total_fare = []\n",
    "#          print(type(id1))\n",
    "#          for i in lis:\n",
    "#              for each,b in hotel_data[i].items():\n",
    "#                  print(each)\n",
    "#                  for a in b:\n",
    "#                      hotel_name.append(a['name'])\n",
    "# #                      print(a['name'])\n",
    "#                      rating.append(a['fd_rating'])\n",
    "#                      recommended.append(a['txt'])\n",
    "#                      checkin.append(a['check_in'])\n",
    "# #              flight_code.append(each['FlHash'])\n",
    "# #              total_fare.append(each['fare']['totalfare'])\n",
    "\n",
    "#          print(airline)\n",
    "         \n",
    "         hotel_data = pd.DataFrame(hotel_data)\n",
    "# #          print(flight_data.info())\n",
    "#          flight_data['Flight_Code'] = flight_data['Flight_Code'].str.replace('o', '')\n",
    "#          hotel_data1['checkin'] = hotel_data['checckin'].astype(int)\n",
    "         hotel_data.to_csv('./output'+str(y)+'/Hotelid_'+id1+'.csv')\n",
    "         q=q+os.path.getsize('./output'+str(y)+'/Hotelid_'+id1+'.csv')\n",
    "         print(q)\n",
    "         time.sleep(2)\n",
    "    return \n",
    "for i in range(21,21):\n",
    "    p=0\n",
    "    q=0\n",
    "    y=i\n",
    "    print(y)\n",
    "    flag=1\n",
    "    mem = max(memory_usage(proc=myfunc))\n",
    "    print(\"Maximum memory used: {} MiB\".format(mem))\n",
    "    print('input file size',p)\n",
    "    print('output file size',q)\n",
    "    mem1.append(mem/8)\n",
    "    inp.append(p/(1024*1024))\n",
    "    out.append(q/(1024*1024))\n"
   ]
  },
  {
   "cell_type": "code",
   "execution_count": 79,
   "metadata": {},
   "outputs": [],
   "source": [
    "dict ={'input_volume':inp,'output_volume':out,'peak_meamory':mem1}\n",
    "df=pd.DataFrame(dict)\n",
    "df.to_csv('mydata_hotels.csv')"
   ]
  },
  {
   "cell_type": "code",
   "execution_count": null,
   "metadata": {},
   "outputs": [],
   "source": []
  }
 ],
 "metadata": {
  "kernelspec": {
   "display_name": "Python 3",
   "language": "python",
   "name": "python3"
  },
  "language_info": {
   "codemirror_mode": {
    "name": "ipython",
    "version": 3
   },
   "file_extension": ".py",
   "mimetype": "text/x-python",
   "name": "python",
   "nbconvert_exporter": "python",
   "pygments_lexer": "ipython3",
   "version": "3.7.3"
  }
 },
 "nbformat": 4,
 "nbformat_minor": 2
}
